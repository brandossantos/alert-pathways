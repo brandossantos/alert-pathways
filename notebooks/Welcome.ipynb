{
 "cells": [
  {
   "cell_type": "markdown",
   "metadata": {},
   "source": [
    "# Welcome\n",
    "Welcome to Expel's Jupyter Hub server! Expel uses Jupyter Hub to facilitate innovation internally in a way that is transparent and accessible to employees. With that said, there are some rules of the road that need to be observed to keep our (and our customer's) data safe.\n",
    "\n",
    "## Rules\n",
    "1. **Do not hard code passwords or API keys into notebooks.** If you need to access resources please use temporary tokens or input the API keys, passwords using `getpass`. Please see [Workbench Authentication](../examples/Workbench_Auth.ipynb) for an example.\n",
    "2. You do not have permissions to edit notebooks belonging to other users. If you want to make changes to another user's notebook, can clone it to your home directory and edit there. "
   ]
  },
  {
   "cell_type": "markdown",
   "metadata": {},
   "source": [
    "# FAQ\n",
    "\n",
    "* Q: How do I browse files? \n",
    " * A: Great question -- [click here](../tree)\n",
    "* Q: I have an existing notebook and/or data I want to upload so I can work on it. How do I do this?\n",
    " * A: Simple! First [click here](../tree), then navigate to your home directory (the directory with your `<first>.<last>` name in it), next click the upload button and select the files you want to upload. Then you are done.\n",
    "* Q: I have a large file that I'm having trouble uploading. How do I upload it?\n",
    " * A: Read [section 6](#SSH/SFTP/SCP-Access)\n",
    "* Q: Can I store customer data in Jupyter Hub?\n",
    " * A: Yes, just upload the files you need in your home directory\n",
    "* Q: Do I need to encrypt or compress data I upload?\n",
    " * A: No, the underlying file system is encrypted and we can always expand disk space as needed.\n",
    "* Q: I have a question not answered here, where do I go?\n",
    " * A: Slack obviously, check out #jupyterhub"
   ]
  },
  {
   "cell_type": "markdown",
   "metadata": {},
   "source": [
    "# Data Sets for Research\n",
    "Below is a list of available data sets, the data sets are available for internal research and subject to our data rentention policies. Overtime we'll move these from flat local files to remote files Scavenger manages on our behalf.\n",
    "\n",
    "| Data Type           | Type of activity captured | Date of Data Capture | Range of data capture | Customer | Vendor | Link |\n",
    "|---------------------|---------------------------|----------------------|-----------------------|----------|--------|------|\n",
    "| AWS CloudTrail logs | Red team activity in AWS  | 5/30/2019            | 5/1/2019-5/30-2019    | Peloton  | AWS    |      |\n",
    "|                     |                           |                      |                       |          |        |      |\n",
    "|                     |                           |                      |                       |          |        |      |\n"
   ]
  },
  {
   "cell_type": "markdown",
   "metadata": {},
   "source": [
    "# Getting Started \n",
    "To expedite your journey using Jupyter Hub and various packages like PyXClient we've put together example notebooks that demonstrate how to perform common tasks.\n",
    "\n",
    "## Workbench\n",
    "* [Workbench Authentication](../examples/Workbench_Auth.ipynb)\n",
    "* Get a list of investigations\n",
    "\n",
    "## Hunting Experiments\n",
    "* Need list of notebooks to link here\n",
    "\n",
    "## Hunting Support\n",
    "* Need list of notebooks to link here\n",
    "\n",
    "## Expel Metrics\n",
    "* Need list of notebooks to link here"
   ]
  },
  {
   "cell_type": "markdown",
   "metadata": {},
   "source": [
    "# Notebook Header Guidelines\n",
    "We recommend using the below header for new notebooks. This allows other users to quickly understand what the purpose of your notebook is and how it works. Feel free to modify for your use case!\n",
    "```\n",
    "# Notebook Name\n",
    "\n",
    "## Purpose\n",
    "What are you trying to do with this notebook?\n",
    "\n",
    "## Audience\n",
    "Who is this notebook developed for?\n",
    "\n",
    "## Data Sources\n",
    "* Data source 1\n",
    "* Data source 2\n",
    "\n",
    "## Description (How does it work?)\n",
    "1. Step 1\n",
    "2. Step 2\n",
    "3. Step 3\n",
    "...\n",
    "\n",
    "## Parameters\n",
    "\n",
    "Parameter | Description\n",
    "--------- | -----------\n",
    "PARAM_1 | Blah blah\n",
    "PARAM_2 | Blah blah\n",
    "\n",
    "## References\n",
    "* Links to documentation or external references\n",
    "```"
   ]
  },
  {
   "cell_type": "markdown",
   "metadata": {
    "code_folding": [],
    "run_control": {
     "marked": true
    }
   },
   "source": [
    "# SSH/SFTP/SCP Access\n",
    "If you are uploading a large file that doesn't seem to work via the UI, or you want a local shell to work in, you may give yourself access by following these steps:\n",
    "\n",
    "1. Open a [terminal](../../terminals/1) in a new tab\n",
    "2. Make an `.ssh` directory and set the required permissions\n",
    "```\n",
    "mkdir ~/.ssh\n",
    "chmod 700 ~/.ssh\n",
    "```\n",
    "3. Write your SSH public key to the list of authorized keys and set the required permissions\n",
    "```\n",
    "echo \"ssh-rsa ...\" > ~/.ssh/authorized_keys\n",
    "chmod 600 ~/.ssh/authorized_keys\n",
    "```\n",
    "4. Exit the shell and test your access\n",
    "```\n",
    "ssh first.last@jupyterhub.ops.expel.io\n",
    "```"
   ]
  }
 ],
 "metadata": {
  "kernelspec": {
   "display_name": "Python [default]",
   "language": "python",
   "name": "python3"
  },
  "language_info": {
   "codemirror_mode": {
    "name": "ipython",
    "version": 3
   },
   "file_extension": ".py",
   "mimetype": "text/x-python",
   "name": "python",
   "nbconvert_exporter": "python",
   "pygments_lexer": "ipython3",
   "version": "3.5.3"
  }
 },
 "nbformat": 4,
 "nbformat_minor": 2
}
